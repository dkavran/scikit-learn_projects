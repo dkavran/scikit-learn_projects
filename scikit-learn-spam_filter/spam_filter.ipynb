{
 "cells": [
  {
   "cell_type": "code",
   "execution_count": 1,
   "metadata": {
    "collapsed": true
   },
   "outputs": [],
   "source": [
    "import numpy as np\n",
    "import requests\n",
    "import tarfile, os\n",
    "import codecs, re, string\n",
    "\n",
    "from sklearn.pipeline import Pipeline\n",
    "from sklearn.preprocessing import StandardScaler\n",
    "from sklearn.pipeline import FeatureUnion\n",
    "\n",
    "from sklearn.base import BaseEstimator, TransformerMixin\n",
    "from sklearn.pipeline import Pipeline\n",
    "from sklearn.feature_extraction.text import CountVectorizer\n",
    "from sklearn.neighbors import KNeighborsClassifier\n",
    "from sklearn.ensemble import RandomForestClassifier\n",
    "from sklearn.tree import DecisionTreeClassifier\n",
    "from sklearn.linear_model import SGDClassifier\n",
    "\n",
    "from sklearn.model_selection import cross_val_score, cross_val_predict\n",
    "from sklearn.model_selection import GridSearchCV\n",
    "from sklearn.metrics import accuracy_score, precision_score, recall_score\n",
    "from sklearn.metrics import confusion_matrix, classification_report\n",
    "\n",
    "#dataset link: https://spamassassin.apache.org/old/publiccorpus/"
   ]
  },
  {
   "cell_type": "code",
   "execution_count": 2,
   "metadata": {
    "collapsed": true
   },
   "outputs": [],
   "source": [
    "class ReplaceURLs(BaseEstimator, TransformerMixin):\n",
    "    def __init__(self, replace = True):\n",
    "        self.replace = replace\n",
    "    def fit(self, X_, y=None):\n",
    "        return self\n",
    "    def transform(self, X_, y=None):\n",
    "        if self.replace:\n",
    "            for index, email in enumerate(X_):\n",
    "                X_[index] = re.sub(r'\\w+:\\/{2}[\\d\\w-]+(\\.[\\d\\w-]+)*(?:(?:\\/[^\\s/]*))*', 'URL ', email)\n",
    "        return X_\n",
    "    \n",
    "class ReplaceNumbers(BaseEstimator, TransformerMixin):\n",
    "    def __init__(self, replace = True):\n",
    "        self.replace = replace\n",
    "    def fit(self, X_, y=None):\n",
    "        return self\n",
    "    def transform(self, X_, y=None):\n",
    "        if self.replace:\n",
    "            for index, email in enumerate(X_):\n",
    "                X_[index] = re.sub('\\d', 'NUMBER ', email)\n",
    "        return X_"
   ]
  },
  {
   "cell_type": "code",
   "execution_count": 3,
   "metadata": {
    "collapsed": true
   },
   "outputs": [],
   "source": [
    "spam_filename = \"20021010_spam.tar.bz2\"\n",
    "ham_filename = \"20021010_easy_ham.tar.bz2\"\n",
    "\n",
    "\n",
    "tar = tarfile.open(spam_filename) #extracting tar.bz2 files on jupyter\n",
    "tar.extractall()\n",
    "tar.close()\n",
    "\n",
    "tar = tarfile.open(ham_filename)\n",
    "tar.extractall()\n",
    "tar.close()"
   ]
  },
  {
   "cell_type": "code",
   "execution_count": 4,
   "metadata": {
    "collapsed": true
   },
   "outputs": [],
   "source": [
    "spam_folder = \"spam\"\n",
    "ham_folder = \"easy_ham\"\n",
    "\n",
    "spam_array = []\n",
    "ham_array = []\n",
    "\n",
    "for filename in os.listdir(spam_folder): #reading emails\n",
    "    \n",
    "    with codecs.open(spam_folder+\"/\"+filename, \"r\",encoding='utf-8', errors='ignore') as f:\n",
    "        data = f.read().replace('\\n',' ')\n",
    "        spam_array.append(data)\n",
    "        \n",
    "for filename in os.listdir(ham_folder):\n",
    "    \n",
    "    with codecs.open(ham_folder+\"/\"+filename, \"r\",encoding='utf-8', errors='ignore') as f:\n",
    "        data = f.read().replace('\\n',' ')\n",
    "        ham_array.append(data)"
   ]
  },
  {
   "cell_type": "code",
   "execution_count": 5,
   "metadata": {
    "collapsed": true
   },
   "outputs": [],
   "source": [
    "X = np.concatenate([spam_array, ham_array])"
   ]
  },
  {
   "cell_type": "code",
   "execution_count": 6,
   "metadata": {
    "collapsed": true
   },
   "outputs": [],
   "source": [
    "y = np.full((1,X.shape[0]),1) #all spam y's get 1s\n",
    "y[0][len(spam_array):] = 0 #all ham y's get 0s\n",
    "y = np.ravel(y)"
   ]
  },
  {
   "cell_type": "code",
   "execution_count": 7,
   "metadata": {
    "collapsed": true
   },
   "outputs": [],
   "source": [
    "pipeline = Pipeline([\n",
    "    ('ReplaceURLs',ReplaceURLs(replace=True)),\n",
    "    ('ReplaceNumbers',ReplaceNumbers(replace=True)),\n",
    "    ('CountVectorizer',CountVectorizer(lowercase=True))\n",
    "])\n",
    "\n",
    "X = pipeline.fit_transform(X)"
   ]
  },
  {
   "cell_type": "code",
   "execution_count": 8,
   "metadata": {
    "collapsed": true
   },
   "outputs": [],
   "source": [
    "shuffle_index = np.random.permutation(X.shape[0])\n",
    "X = X[shuffle_index]\n",
    "y = y[shuffle_index]\n",
    "\n",
    "X_train, X_test = X[:2400], X[2400:] #around 80:20 ratio selection of train and test sets\n",
    "y_train, y_test = y[:2400], y[2400:]"
   ]
  },
  {
   "cell_type": "code",
   "execution_count": 9,
   "metadata": {
    "collapsed": true
   },
   "outputs": [],
   "source": [
    "models = [KNeighborsClassifier(), RandomForestClassifier(), DecisionTreeClassifier(), SGDClassifier()]\n",
    "for index, model in enumerate(models):\n",
    "    models[index] = model.fit(X_train, y_train)"
   ]
  },
  {
   "cell_type": "code",
   "execution_count": 10,
   "metadata": {},
   "outputs": [],
   "source": [
    "#for model in models: #uncomment if you want to train all 4 models in array models\n",
    "#    prediction_train = cross_val_predict(model, X_train, y_train, cv=3)\n",
    "#    print(\"Train data\\n\",classification_report(prediction_train,y_train),\"\\n\",confusion_matrix(y_train,prediction_train))\n",
    "#    \n",
    "#    prediction_test = model.predict(X_test)\n",
    "#    print(\"\\nTest data\\n\",confusion_matrix(y_test,prediction_test))\n",
    "#    print(\"Accuracy: \",accuracy_score(y_test,prediction_test),\"\\n\")"
   ]
  },
  {
   "cell_type": "code",
   "execution_count": 11,
   "metadata": {
    "collapsed": true
   },
   "outputs": [],
   "source": [
    "#model #3 - DecisionTreeClassifier has the best precision/recall ratio, lets train it\n",
    "\n",
    "dtc = DecisionTreeClassifier()\n",
    "\n",
    "parameters = {\n",
    "    'max_depth': list(range(2, 50)),\n",
    "    'min_samples_split': (2,),\n",
    "    'min_samples_leaf': (1,)\n",
    "}\n",
    "\n",
    "grid_search = GridSearchCV(dtc, parameters, n_jobs=-1, cv=3)\n",
    "grid_search.fit(X_train, y_train)\n",
    "dtc = grid_search.best_estimator_"
   ]
  },
  {
   "cell_type": "code",
   "execution_count": 12,
   "metadata": {},
   "outputs": [
    {
     "name": "stdout",
     "output_type": "stream",
     "text": [
      "Train data\n",
      "              precision    recall  f1-score   support\n",
      "\n",
      "          0       0.99      0.99      0.99      2013\n",
      "          1       0.94      0.96      0.95       387\n",
      "\n",
      "avg / total       0.98      0.98      0.98      2400\n",
      " \n",
      " [[1990   14]\n",
      " [  23  373]]\n",
      "\n",
      "Test data\n",
      " [[546   1]\n",
      " [  5 100]]\n",
      "\n",
      "Accuracy:  0.990797546012\n"
     ]
    }
   ],
   "source": [
    "prediction_train = cross_val_predict(dtc, X_train, y_train, cv=3)\n",
    "print(\"Train data\\n\",classification_report(prediction_train,y_train),\"\\n\",confusion_matrix(y_train,prediction_train))\n",
    "\n",
    "prediction_test = dtc.predict(X_test)\n",
    "print(\"\\nTest data\\n\",confusion_matrix(y_test,prediction_test))\n",
    "print(\"\\nAccuracy: \",accuracy_score(y_test,prediction_test))"
   ]
  },
  {
   "cell_type": "code",
   "execution_count": null,
   "metadata": {
    "collapsed": true
   },
   "outputs": [],
   "source": []
  }
 ],
 "metadata": {
  "kernelspec": {
   "display_name": "Python 3",
   "language": "python",
   "name": "python3"
  },
  "language_info": {
   "codemirror_mode": {
    "name": "ipython",
    "version": 3
   },
   "file_extension": ".py",
   "mimetype": "text/x-python",
   "name": "python",
   "nbconvert_exporter": "python",
   "pygments_lexer": "ipython3",
   "version": "3.6.1"
  }
 },
 "nbformat": 4,
 "nbformat_minor": 2
}
