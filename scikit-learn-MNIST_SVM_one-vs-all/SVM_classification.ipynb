{
 "cells": [
  {
   "cell_type": "code",
   "execution_count": 1,
   "metadata": {
    "collapsed": true
   },
   "outputs": [],
   "source": [
    "%matplotlib inline \n",
    "import matplotlib.pyplot as plt\n",
    "from sklearn.linear_model import LinearRegression\n",
    "from sklearn.linear_model import SGDRegressor\n",
    "from sklearn.metrics import mean_squared_error, classification_report, confusion_matrix\n",
    "from sklearn.model_selection import train_test_split\n",
    "from sklearn.pipeline import Pipeline\n",
    "from sklearn.linear_model import Ridge\n",
    "from sklearn.linear_model import ElasticNet\n",
    "from sklearn import datasets\n",
    "from sklearn.linear_model import LogisticRegression\n",
    "import numpy as np\n",
    "from sklearn import datasets\n",
    "from sklearn.pipeline import Pipeline\n",
    "from sklearn.preprocessing import StandardScaler\n",
    "from sklearn.svm import LinearSVC\n",
    "from sklearn.svm import SVC\n",
    "from sklearn.svm import LinearSVR\n",
    "from sklearn.svm import SVR\n",
    "from sklearn.model_selection import GridSearchCV\n",
    "from sklearn.model_selection import cross_val_score, cross_val_predict\n",
    "from sklearn.model_selection import train_test_split"
   ]
  },
  {
   "cell_type": "code",
   "execution_count": 2,
   "metadata": {
    "collapsed": true
   },
   "outputs": [],
   "source": [
    "from sklearn.datasets import fetch_mldata\n",
    "\n",
    "mnist = fetch_mldata('MNIST original')\n",
    "mnist\n",
    "\n",
    "X, y = mnist[\"data\"], mnist[\"target\"]\n",
    "\n",
    "X_train, X_test, y_train, y_test = X[:60000], X[60000:], y[:60000],y[60000:]\n",
    "\n",
    "shuffle_index = np.random.permutation(60000)\n",
    "X_train, y_train = X_train[shuffle_index], y_train[shuffle_index]"
   ]
  },
  {
   "cell_type": "code",
   "execution_count": 3,
   "metadata": {},
   "outputs": [
    {
     "name": "stdout",
     "output_type": "stream",
    }
   ],
   "source": [
    "classificators = [None] * 10\n",
    "\n",
    "Cs = [0.001, 0.01, 0.1, 1, 10]\n",
    "kernels = ['linear']\n",
    "probability = [True]\n",
    "\n",
    "X_train, X_test, y_train, y_test = train_test_split(X_train, y_train, train_size=6000, test_size=1000, random_state=42)\n",
    "#smaller train and test sets to speed up the process - consequently smaller precision and recall\n",
    "for index in range(10):\n",
    "    y_train_tmp = (y_train == index)\n",
    "    svc = SVC()\n",
    "    \n",
    "    parameters = {'C': Cs,'kernel':kernels, 'probability':probability}\n",
    "    \n",
    "    grid_search = GridSearchCV(svc, parameters, n_jobs=-1, cv=3)\n",
    "    grid_search.fit(X_train, y_train_tmp)\n",
    "\n",
    "    svc = grid_search.best_estimator_\n",
    "    classificators[index] = svc"
   ]
  },
  {
   "cell_type": "code",
   "execution_count": 4,
   "metadata": {},
   "outputs": [],
   "source": [
    "probabilities = [None] * 10\n",
    "for index, classificator in enumerate(classificators):\n",
    "    probabilities[index] = classificator.predict_proba(X_test)[:,1]\n",
    "probabilities = np.asarray(probabilities)\n",
    "predictions = probabilities.argmax(axis=0)"
   ]
  },
  {
   "cell_type": "code",
   "execution_count": 6,
   "metadata": {},
   "outputs": [
    {
     "name": "stdout",
     "output_type": "stream",
     "text": [
      "             precision    recall  f1-score   support\n",
      "\n",
      "          0       0.96      0.96      0.96        96\n",
      "          1       0.96      0.95      0.95       132\n",
      "          2       0.80      0.88      0.84        94\n",
      "          3       0.74      0.79      0.76        94\n",
      "          4       0.92      0.86      0.89       111\n",
      "          5       0.82      0.76      0.79        92\n",
      "          6       0.88      0.88      0.88        85\n",
      "          7       0.91      0.89      0.90        97\n",
      "          8       0.80      0.83      0.81        99\n",
      "          9       0.79      0.78      0.78       100\n",
      "\n",
      "avg / total       0.86      0.86      0.86      1000\n",
      " \n",
      " [[ 92   0   1   0   0   2   0   0   0   1]\n",
      " [  0 125   0   1   0   0   1   0   3   0]\n",
      " [  2   0  83   8   0   1   4   3   1   2]\n",
      " [  0   0   3  74   0  11   0   2   6   4]\n",
      " [  0   2   0   0  96   1   2   0   0   3]\n",
      " [  0   2   1   2   5  70   1   0   3   1]\n",
      " [  0   0   1   0   3   2  75   0   1   3]\n",
      " [  1   1   0   2   1   0   0  86   0   3]\n",
      " [  1   1   3   5   1   2   2   1  82   5]\n",
      " [  0   1   2   2   5   3   0   5   3  78]]\n"
     ]
    }
   ],
   "source": [
    "print(classification_report(predictions,y_test),\"\\n\",confusion_matrix(y_test,predictions)) #around 0.86 both precision and recall"
   ]
  },
  {
   "cell_type": "code",
   "execution_count": null,
   "metadata": {
    "collapsed": true
   },
   "outputs": [],
   "source": []
  }
 ],
 "metadata": {
  "kernelspec": {
   "display_name": "Python 3",
   "language": "python",
   "name": "python3"
  },
  "language_info": {
   "codemirror_mode": {
    "name": "ipython",
    "version": 3
   },
   "file_extension": ".py",
   "mimetype": "text/x-python",
   "name": "python",
   "nbconvert_exporter": "python",
   "pygments_lexer": "ipython3",
   "version": "3.6.1"
  }
 },
 "nbformat": 4,
 "nbformat_minor": 2
}
